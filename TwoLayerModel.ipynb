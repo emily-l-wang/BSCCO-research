{
 "cells": [
  {
   "cell_type": "code",
   "execution_count": 1,
   "metadata": {
    "scrolled": false
   },
   "outputs": [],
   "source": [
    "import filenistview \n",
    "import random\n",
    "import pickle\n",
    "import numpy as np\n",
    "import sys\n",
    "import torch\n",
    "\n",
    "import matplotlib.pyplot as plt"
   ]
  },
  {
   "cell_type": "code",
   "execution_count": 2,
   "metadata": {
    "scrolled": true
   },
   "outputs": [
    {
     "name": "stdout",
     "output_type": "stream",
     "text": [
      "FileHandler <class 'filenistview.FileHandlerNVL'>: Load file 70824A05 NVL cropped.nvl\n",
      "IDL Save file is compressed\n",
      " -> expanding to /var/folders/5n/0c1hg8pn7lz4zsrbybrzwr5r0000gn/T/tmppjslg4r6.sav\n",
      "--------------------------------------------------\n",
      "Date: Tue Apr 12 10:37:34 2011\n",
      "User: Eric\n",
      "Host: TASKMASTER\n",
      "--------------------------------------------------\n",
      "Format: 9\n",
      "Architecture: x86_64\n",
      "Operating System: Win32\n",
      "IDL Version: 7.1.2\n",
      "--------------------------------------------------\n",
      "Successfully read 14 records of which:\n",
      " - 2 are of type VARIABLE\n",
      " - 1 are of type VERSION\n",
      " - 1 are of type NOTICE\n",
      " - 7 are of type HEAP_DATA\n",
      " - 1 are of type TIMESTAMP\n",
      " - 1 are of type HEAP_HEADER\n",
      "--------------------------------------------------\n",
      "Available variables:\n",
      " - savestructure [<class 'numpy.recarray'>]\n",
      " - saveversion [<class 'numpy.float32'>]\n",
      "--------------------------------------------------\n"
     ]
    }
   ],
   "source": [
    "nvldata = filenistview.FileHandlerNVL.load(\"70824A05 NVL cropped.nvl\")"
   ]
  },
  {
   "cell_type": "code",
   "execution_count": 3,
   "metadata": {
    "scrolled": false
   },
   "outputs": [
    {
     "name": "stdout",
     "output_type": "stream",
     "text": [
      "(1, 41, 468, 468)\n"
     ]
    }
   ],
   "source": [
    "print(nvldata.shape)"
   ]
  },
  {
   "cell_type": "code",
   "execution_count": 4,
   "metadata": {},
   "outputs": [],
   "source": [
    "nvldata = np.asarray(nvldata)"
   ]
  },
  {
   "cell_type": "code",
   "execution_count": 5,
   "metadata": {
    "scrolled": true
   },
   "outputs": [
    {
     "name": "stdout",
     "output_type": "stream",
     "text": [
      "[4539.401   4489.2144  4434.01    4745.1797  4619.6987  4388.8423\n",
      " 4434.01    4423.9727  4474.1587  4328.6187  4519.326   4554.4565\n",
      " 4469.14    4328.6187  4544.4194  4835.5146  4930.868   3450.3455\n",
      " 1678.7583   644.9078   293.58902  815.5407  2065.1917  3600.9194\n",
      " 4910.794   4057.6135  2802.9438  2255.8992  2125.415   2050.136\n",
      " 2311.104   2336.197   2351.253   2446.6064  2306.0852  2235.8247\n",
      " 2296.048   2451.6252  2255.8992  2120.3965  2035.0801 ]\n"
     ]
    }
   ],
   "source": [
    "print(nvldata[0,:,0,0])"
   ]
  },
  {
   "cell_type": "code",
   "execution_count": 6,
   "metadata": {
    "scrolled": false
   },
   "outputs": [
    {
     "name": "stdout",
     "output_type": "stream",
     "text": [
      "-2627.2925\n",
      "32222.508\n"
     ]
    }
   ],
   "source": [
    "print(np.min(nvldata))\n",
    "print(np.max(nvldata))"
   ]
  },
  {
   "cell_type": "code",
   "execution_count": 7,
   "metadata": {
    "scrolled": false
   },
   "outputs": [
    {
     "name": "stdout",
     "output_type": "stream",
     "text": [
      "[0.14087671 0.13931921 0.13760598 0.14726289 0.14336869 0.13620424\n",
      " 0.13760598 0.13729449 0.13885197 0.13433525 0.14025371 0.14134395\n",
      " 0.13869622 0.13433525 0.14103246 0.15006636 0.15302558 0.10707874\n",
      " 0.05209893 0.0200142  0.0091113  0.02530966 0.06409159 0.11175168\n",
      " 0.1524026  0.12592483 0.08698715 0.07001004 0.06596057 0.06362434\n",
      " 0.07172328 0.07250202 0.07296927 0.07592849 0.07156753 0.06938705\n",
      " 0.07125603 0.07608425 0.07001004 0.06580482 0.0631571 ]\n"
     ]
    }
   ],
   "source": [
    "norm_data = nvldata / np.max(nvldata)\n",
    "print(norm_data[0,:,0,0])"
   ]
  },
  {
   "cell_type": "code",
   "execution_count": 8,
   "metadata": {},
   "outputs": [],
   "source": [
    "# each member of the training dataset has size 41 energies, 468 rows, 468 columns\n",
    "nvl_modified = np.zeros((41, 468, 468))\n",
    "\n",
    "for i in range(468):\n",
    "    for j in range(468):\n",
    "        nvl_modified[:,i,j] = norm_data[0,:,i,j]"
   ]
  },
  {
   "cell_type": "code",
   "execution_count": 9,
   "metadata": {
    "scrolled": false
   },
   "outputs": [
    {
     "name": "stdout",
     "output_type": "stream",
     "text": [
      "[0.16532974 0.164551   0.16065729 0.16439526 0.15582907 0.14804162\n",
      " 0.14087671 0.14554964 0.13324501 0.12888405 0.12296559 0.1159569\n",
      " 0.10848048 0.09742231 0.09103661 0.08745439 0.07997845 0.06471458\n",
      " 0.05350067 0.03294135 0.01705498 0.03294135 0.0561484  0.06362434\n",
      " 0.07359227 0.07966647 0.0804457  0.08309343 0.0865199  0.08356068\n",
      " 0.08807738 0.08527391 0.08138019 0.08309343 0.08511816 0.08558541\n",
      " 0.08418367 0.08465092 0.08402792 0.08293768 0.07764173]\n"
     ]
    }
   ],
   "source": [
    "print(nvl_modified[:,420,4])"
   ]
  },
  {
   "cell_type": "code",
   "execution_count": 10,
   "metadata": {},
   "outputs": [
    {
     "name": "stdout",
     "output_type": "stream",
     "text": [
      "(41, 468, 468)\n"
     ]
    }
   ],
   "source": [
    "print(nvl_modified.shape)"
   ]
  },
  {
   "cell_type": "code",
   "execution_count": 11,
   "metadata": {
    "code_folding": []
   },
   "outputs": [],
   "source": [
    "delta_x = 1 # delta_x is the change in row #\n",
    "delta_y = 1 # delta_y is the change in column #\n",
    "\n",
    "# create a set from nvl_modified spanning from (x0, y0) to x0+x_dim, y0+y_dim)\n",
    "def create_data(x0, y0, x_dim, y_dim):\n",
    "    new = nvl_modified[:, x0:(x0 + x_dim), y0:(y0 + y_dim)]\n",
    "    return new\n",
    "    \n",
    "# reorganize a grid of len_z-value arrays into a list\n",
    "def data_flat(x_array):\n",
    "    len_x = x_array.shape[1]\n",
    "    len_y = x_array.shape[2]\n",
    "    len_z = x_array.shape[0]\n",
    "    new = np.zeros((len_x * len_y, len_z))\n",
    "    count = 0\n",
    "    for j in range(len_y):\n",
    "        for i in range(len_x):\n",
    "            new[count,:] = x_array[:, i, j]\n",
    "            count += 1\n",
    "    \n",
    "    return new\n",
    "\n",
    "# create a set from nvl_modified that is shifted by delta_x, delta_y from the input\n",
    "def create_output(x0, y0, x_dim, y_dim):\n",
    "    new = create_data(x0 + delta_x, y0 + delta_y, x_dim, y_dim)\n",
    "    return new"
   ]
  },
  {
   "cell_type": "code",
   "execution_count": 12,
   "metadata": {
    "scrolled": true
   },
   "outputs": [
    {
     "name": "stdout",
     "output_type": "stream",
     "text": [
      "(209764, 41)\n",
      "(209764, 41)\n"
     ]
    }
   ],
   "source": [
    "# flattened array with a length of 458 (columns) x 458 (rows) grid points\n",
    "nvl_flat_feat = data_flat(create_data(0, 0, 458, 458))\n",
    "print(nvl_flat_feat.shape)\n",
    "nvl_flat_labels = data_flat(create_output(0, 0, 458, 458))\n",
    "print(nvl_flat_labels.shape)"
   ]
  },
  {
   "cell_type": "code",
   "execution_count": 13,
   "metadata": {
    "scrolled": true
   },
   "outputs": [
    {
     "name": "stdout",
     "output_type": "stream",
     "text": [
      "[0.12062937 0.11502241 0.12218685 0.11720289 0.11985062 0.11922763\n",
      " 0.11704715 0.11782589 0.12296559 0.11798164 0.12421158 0.12935129\n",
      " 0.13682723 0.135114   0.14243419 0.19663574 0.26547769 0.21610481\n",
      " 0.09633207 0.03029362 0.00568483 0.01845671 0.05147594 0.12452308\n",
      " 0.1891598  0.16081303 0.09711082 0.07514975 0.0695428  0.07265777\n",
      " 0.06642782 0.07374801 0.06798531 0.06596057 0.06082086 0.0570829\n",
      " 0.06019787 0.05132019 0.05287768 0.05318918 0.05381217]\n",
      "[0.12062937 0.11502241 0.12218685 0.11720289 0.11985062 0.11922763\n",
      " 0.11704715 0.11782589 0.12296559 0.11798164 0.12421158 0.12935129\n",
      " 0.13682723 0.135114   0.14243419 0.19663574 0.26547769 0.21610481\n",
      " 0.09633207 0.03029362 0.00568483 0.01845671 0.05147594 0.12452308\n",
      " 0.1891598  0.16081303 0.09711082 0.07514975 0.0695428  0.07265777\n",
      " 0.06642782 0.07374801 0.06798531 0.06596057 0.06082086 0.0570829\n",
      " 0.06019787 0.05132019 0.05287768 0.05318918 0.05381217]\n"
     ]
    }
   ],
   "source": [
    "# check that the features and labels align properly\n",
    "print(nvl_flat_feat[delta_y * 458 + delta_x])\n",
    "print(nvl_flat_labels[0])"
   ]
  },
  {
   "cell_type": "code",
   "execution_count": 14,
   "metadata": {},
   "outputs": [],
   "source": [
    "# choose some number of random indices to create our features and labels sets\n",
    "train_size = 20000\n",
    "\n",
    "# create and store the indices\n",
    "#ind_list = random.sample(range(209764), train_size)\n",
    "#pickle.dump(ind_list, open(\"IndList.pickle\", \"wb\"))\n",
    "\n",
    "# if training indices already stored in a file, just load them\n",
    "ind_list = pickle.load(open(\"IndList.pickle\", \"rb\"))\n",
    "\n",
    "feat = np.zeros((train_size, 41))\n",
    "labels = np.zeros((train_size, 41))\n",
    "for i in range(train_size):\n",
    "    # e.g., for the 0th training pair, we refer to the 0th index listed in ind_list\n",
    "    feat[i] = nvl_flat_feat[ind_list[i],:]\n",
    "    labels[i] = nvl_flat_labels[ind_list[i],:]"
   ]
  },
  {
   "cell_type": "code",
   "execution_count": 15,
   "metadata": {},
   "outputs": [
    {
     "name": "stdout",
     "output_type": "stream",
     "text": [
      "(20000, 41)\n",
      "(20000, 41)\n"
     ]
    }
   ],
   "source": [
    "print(feat.shape)\n",
    "print(labels.shape)"
   ]
  },
  {
   "cell_type": "code",
   "execution_count": 16,
   "metadata": {},
   "outputs": [
    {
     "name": "stdout",
     "output_type": "stream",
     "text": [
      "[6501, 176642, 128649, 88726, 157166, 78557, 98487, 113019, 85214, 74849]\n"
     ]
    }
   ],
   "source": [
    "print(ind_list[:10])"
   ]
  },
  {
   "cell_type": "code",
   "execution_count": 17,
   "metadata": {},
   "outputs": [],
   "source": [
    "feat = torch.from_numpy(feat).float()\n",
    "labels = torch.from_numpy(labels).float()"
   ]
  },
  {
   "cell_type": "code",
   "execution_count": 28,
   "metadata": {},
   "outputs": [],
   "source": [
    "# define model, optimizer, and loss function\n",
    "model = torch.nn.Sequential(torch.nn.Linear(41, 150),\\\n",
    "                            torch.nn.Sigmoid(),\\\n",
    "                           torch.nn.Linear(150, 41))\n",
    "\n",
    "# L2 loss\n",
    "loss_fn = torch.nn.MSELoss()"
   ]
  },
  {
   "cell_type": "code",
   "execution_count": 19,
   "metadata": {
    "scrolled": true
   },
   "outputs": [],
   "source": [
    "#model = pickle.load(open(\"OneLayer3spot.pickle\", \"rb\"))"
   ]
  },
  {
   "cell_type": "code",
   "execution_count": 29,
   "metadata": {},
   "outputs": [],
   "source": [
    "lr = 1e-4\n",
    "optimizer = torch.optim.Adam(params=model.parameters(), lr=lr)"
   ]
  },
  {
   "cell_type": "code",
   "execution_count": 1,
   "metadata": {
    "scrolled": true
   },
   "outputs": [],
   "source": [
    "for i in range(50000):\n",
    "    # given (x,y), predict (x+y_pred, y)\n",
    "    prediction = model(feat)\n",
    "    \n",
    "    # calculate loss \n",
    "    loss = loss_fn(prediction, labels)\n",
    "    \n",
    "    # backpropagation\n",
    "    optimizer.zero_grad()\n",
    "    loss.backward()\n",
    "    optimizer.step()\n",
    "    \n",
    "    if i % 500 == 0:\n",
    "        print(\"Step \" + str(i) + \": loss = \" + str(loss.data.item()))"
   ]
  },
  {
   "cell_type": "markdown",
   "metadata": {},
   "source": [
    "# See how the model performs on an arbitrary set of data."
   ]
  },
  {
   "cell_type": "code",
   "execution_count": 78,
   "metadata": {
    "scrolled": true
   },
   "outputs": [
    {
     "name": "stdout",
     "output_type": "stream",
     "text": [
      "[6501, 176642, 128649, 88726, 157166, 78557, 98487, 113019, 85214, 74849]\n"
     ]
    }
   ],
   "source": [
    "# check the first few training indices \n",
    "print(ind_list[:10])"
   ]
  },
  {
   "cell_type": "code",
   "execution_count": 54,
   "metadata": {
    "scrolled": true
   },
   "outputs": [
    {
     "name": "stdout",
     "output_type": "stream",
     "text": [
      "[28452, 128445, 888]\n"
     ]
    }
   ],
   "source": [
    "# get three random spectra in the dataset\n",
    "test_size = 3\n",
    "test_ind_list = random.sample(range(209764), test_size)\n",
    "print(test_ind_list)"
   ]
  },
  {
   "cell_type": "code",
   "execution_count": 64,
   "metadata": {},
   "outputs": [
    {
     "name": "stdout",
     "output_type": "stream",
     "text": [
      "False\n"
     ]
    }
   ],
   "source": [
    "print(888 in ind_list)"
   ]
  },
  {
   "cell_type": "code",
   "execution_count": 27,
   "metadata": {
    "scrolled": true
   },
   "outputs": [
    {
     "name": "stdout",
     "output_type": "stream",
     "text": [
      "tensor(0.0009, grad_fn=<MseLossBackward>)\n"
     ]
    }
   ],
   "source": [
    "test_ind = 888\n",
    "test_feat = torch.from_numpy(nvl_flat_feat[test_ind]).float()\n",
    "test_labels = torch.from_numpy(nvl_flat_labels[test_ind]).float()\n",
    "\n",
    "pred_spec = model(test_feat)\n",
    "real_spec = test_labels\n",
    "\n",
    "# print(pred_spec)\n",
    "# print(real_spec)\n",
    "\n",
    "print(loss_fn(pred_spec, real_spec))"
   ]
  },
  {
   "cell_type": "code",
   "execution_count": 21,
   "metadata": {
    "scrolled": true
   },
   "outputs": [
    {
     "name": "stdout",
     "output_type": "stream",
     "text": [
      "False\n"
     ]
    }
   ],
   "source": [
    "print(test_ind in ind_list)"
   ]
  },
  {
   "cell_type": "markdown",
   "metadata": {},
   "source": [
    "# Save the model"
   ]
  },
  {
   "cell_type": "code",
   "execution_count": 31,
   "metadata": {},
   "outputs": [],
   "source": [
    "pickle.dump(model, open(\"TwoLayer1down1right.pickle\", \"wb\"))"
   ]
  },
  {
   "cell_type": "markdown",
   "metadata": {},
   "source": [
    "# Plotting spectra"
   ]
  },
  {
   "cell_type": "code",
   "execution_count": 66,
   "metadata": {
    "scrolled": true
   },
   "outputs": [
    {
     "data": {
      "text/plain": [
       "<matplotlib.legend.Legend at 0x127765240>"
      ]
     },
     "execution_count": 66,
     "metadata": {},
     "output_type": "execute_result"
    },
    {
     "data": {
      "image/png": "[encoded data removed]",
      "text/plain": [
       "<Figure size 720x432 with 1 Axes>"
      ]
     },
     "metadata": {
      "needs_background": "light"
     },
     "output_type": "display_data"
    }
   ],
   "source": [
    "x_axis = list(range(1,42))\n",
    "\n",
    "fig = plt.figure(figsize=(10,6))\n",
    "\n",
    "plt.plot(x_axis, real_spec, label = \"real\")\n",
    "plt.plot(x_axis, pred_spec.detach(), label = \"pred\")\n",
    "plt.legend()"
   ]
  },
  {
   "cell_type": "code",
   "execution_count": 51,
   "metadata": {
    "scrolled": false
   },
   "outputs": [
    {
     "name": "stdout",
     "output_type": "stream",
     "text": [
      "tensor([[ 2.8354e-01,  8.4679e-02,  9.9055e-02,  ...,  3.0221e-01,\n",
      "          6.4399e-03,  2.3511e-02],\n",
      "        [ 2.4506e-01,  1.4895e-01, -4.1788e-02,  ...,  2.5437e-01,\n",
      "          1.0731e-01, -3.4343e-02],\n",
      "        [ 1.8150e-01,  2.1025e-01, -3.3466e-02,  ...,  1.2265e-01,\n",
      "         -2.2504e-05,  5.7476e-02],\n",
      "        ...,\n",
      "        [ 1.2443e-02,  1.5136e-02,  8.2232e-03,  ...,  8.3819e-02,\n",
      "          8.6346e-02,  1.5688e-01],\n",
      "        [ 1.9999e-02, -1.5088e-02,  2.0894e-02,  ...,  1.3711e-01,\n",
      "          1.1727e-01,  1.7736e-01],\n",
      "        [ 5.2772e-02, -1.8095e-02, -5.5261e-02,  ...,  1.3567e-01,\n",
      "          2.2492e-01,  1.8733e-01]])\n",
      "tensor([0.2600, 0.2583, 0.2571, 0.2566, 0.2552, 0.2510, 0.2456, 0.2448, 0.2415,\n",
      "        0.2345, 0.2267, 0.2198, 0.2112, 0.1996, 0.1813, 0.1586, 0.1408, 0.1207,\n",
      "        0.0938, 0.0527, 0.0243, 0.0398, 0.0708, 0.0853, 0.0875, 0.0873, 0.0856,\n",
      "        0.0853, 0.0825, 0.0801, 0.0790, 0.0785, 0.0759, 0.0728, 0.0707, 0.0711,\n",
      "        0.0693, 0.0672, 0.0671, 0.0670, 0.0651])\n"
     ]
    }
   ],
   "source": [
    "# see what the model's parameters look like\n",
    "weights = torch.from_numpy(np.zeros(1))\n",
    "bias = torch.from_numpy(np.zeros(1))\n",
    "\n",
    "x = 1\n",
    "for param in model.parameters():\n",
    "    if x == 2:\n",
    "        bias = param.data\n",
    "        #print(param.data)\n",
    "        #print(param.data.shape)   \n",
    "        \n",
    "    if x == 1:\n",
    "        weights = param.data\n",
    "        #print(param.data)\n",
    "        #print(param.data.shape)\n",
    "        x = 2  \n",
    "        \n",
    "print(weights)\n",
    "print(bias)"
   ]
  },
  {
   "cell_type": "code",
   "execution_count": 52,
   "metadata": {
    "scrolled": true
   },
   "outputs": [
    {
     "data": {
      "image/png": "[encoded data removed]",
      "text/plain": [
       "<Figure size 432x288 with 1 Axes>"
      ]
     },
     "metadata": {
      "needs_background": "light"
     },
     "output_type": "display_data"
    }
   ],
   "source": [
    "# a = np.random.random((16, 16))\n",
    "# plt.imshow(a, cmap='hot', interpolation='nearest')\n",
    "# plt.show()\n",
    "plt.imshow(weights.numpy(), cmap='Blues', interpolation='hermite')\n",
    "plt.show()"
   ]
  },
  {
   "cell_type": "code",
   "execution_count": null,
   "metadata": {},
   "outputs": [],
   "source": []
  }
 ],
 "metadata": {
  "kernelspec": {
   "display_name": "Python 3",
   "language": "python",
   "name": "python3"
  },
  "language_info": {
   "codemirror_mode": {
    "name": "ipython",
    "version": 3
   },
   "file_extension": ".py",
   "mimetype": "text/x-python",
   "name": "python",
   "nbconvert_exporter": "python",
   "pygments_lexer": "ipython3",
   "version": "3.8.8"
  }
 },
 "nbformat": 4,
 "nbformat_minor": 2
}
